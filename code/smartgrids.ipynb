{
 "cells": [
  {
   "cell_type": "code",
   "execution_count": 1,
   "metadata": {},
   "outputs": [],
   "source": [
    "import numpy as np\n",
    "import matplotlib.pyplot as plt\n",
    "import pandas as pd\n",
    "import random"
   ]
  },
  {
   "cell_type": "code",
   "execution_count": 3,
   "metadata": {},
   "outputs": [],
   "source": [
    "class DSO:\n",
    "\tdef __init__(self, totalHours, marginalCost, unitSalePrice):\n",
    "\t\tself.totalHours = totalHours\n",
    "\t\tself.numberOfAggregators = 0\n",
    "\t\tself.marginalCost = marginalCost\n",
    "\t\tself.unitSalePrice = unitSalePrice\n",
    "\t\tself.aggregators = []\n",
    "\t\tself.maxUtility = 0\n",
    "\n",
    "\tdef addAggregator(self, aggregator):\n",
    "\t\tself.aggregators.append(aggregator)\n",
    "\t\tself.numberOfAggregators += 1\n",
    "\n",
    "\tdef getAggregators(self):\n",
    "\t\treturn self.aggregators\n",
    "\n",
    "\tdef Sfunction(self, aggregator, tIndex):\n",
    "\t\treturn aggregator.maximumDemand[tIndex] * self.maxPriceReference * (1 - np.exp(-aggregator.preferenceSatisfaction[tIndex] * (aggregator.actualLoad[tIndex] / aggregator.nominalDemand[tIndex])))\n",
    "\t\n",
    "\tdef CostFunction(self, aggregator, tIndex):\n",
    "\t\t# return self.marginalCost[tIndex] * aggregator.actualLoad[tIndex]\n",
    "\t\treturn \n",
    "\n",
    "\tdef utilityFunction(self, m, theta, omega):\n",
    "\t\tsum = 0\n",
    "\t\tfor i in range(self.numberOfAggregators):\n",
    "\t\t\tagg = self.aggregators[i]\n",
    "\t\t\tfor j in range(self.totalHours):\n",
    "\t\t\t\tsum += self.unitSalePrice[j] * agg.actualLoad[j] - self.CostFunction[j] * agg.actualLoad[j] + omega * self.Sfunction(agg, j)\n",
    "\t\tsum -= theta*m\n",
    "\t\treturn sum\n",
    "\t\n",
    "\tdef optimalPrice(self):\n",
    "\t\treturn self.utilityFunction(0, 0, 0)\n",
    "\n",
    "class Aggregator:\n",
    "\tdef __init__(self, totalHours, nominalDemand, minimumDemand, maximumDemand, maxPriceReference, preferenceSatisfaction, actualLoad):\n",
    "\t\tself.totalHours = totalHours\n",
    "\t\tself.nominalDemand = nominalDemand\n",
    "\t\tself.minimumDemand = minimumDemand\n",
    "\t\tself.maximumDemand = maximumDemand\n",
    "\t\tself.maxPriceReference = maxPriceReference\n",
    "\t\tself.preferenceSatisfaction = preferenceSatisfaction\n",
    "\t\tself.actualLoad = actualLoad\n",
    "\t\tself.currentUtility = 0\n",
    "\t\tself.bestLoadResponse = []\n",
    "\n",
    "\tdef utilityFunction(self, DSO):\n",
    "\t\tsum = 0\n",
    "\t\tfor i in range(DSO.totalHours):\n",
    "\t\t\tsum += DSO.SFunction(self, i) - DSO.unitSalePrice[i] * self.actualLoad[i]\n",
    "\t\treturn sum\n",
    "\n",
    "\tdef optimalDR(self, DSO):\n",
    "\t\tfor j in range(DSO.totalHours):\n",
    "\t\t\tself.bestLoadResponse[j] = (DSO.nominalDemand[j] / self.preferenceSatisfaction[j]) * (np.log((self.preferenceSatisfaction[j] * self.maxPriceReference) / DSO.unitSalePrice[j]))\n"
   ]
  },
  {
   "cell_type": "code",
   "execution_count": null,
   "metadata": {},
   "outputs": [],
   "source": [
    "datasetPath = '../dataset/'"
   ]
  },
  {
   "cell_type": "code",
   "execution_count": 4,
   "metadata": {},
   "outputs": [],
   "source": [
    "numOfLA = 3\n",
    "numOfHours = 25919\n",
    "dso = DSO()\n",
    "LAs = []\n",
    "\n",
    "# for i in range(3):\n",
    "#     # read data from csv file\n",
    "# \tletter = chr(ord('A') + i)\n",
    "# \tfileName = 'Home' + letter + '_hourly.csv'\n",
    "# \tdf = pd.read_csv(datasetPath + fileName)\n",
    "    "
   ]
  },
  {
   "cell_type": "code",
   "execution_count": null,
   "metadata": {},
   "outputs": [],
   "source": [
    "# DSO gives the price for each hour\n",
    "for i in range(numOfLA):\n",
    "\tla = LAs[i]\n",
    "\tla.optimalDR(dso)"
   ]
  },
  {
   "cell_type": "code",
   "execution_count": null,
   "metadata": {},
   "outputs": [],
   "source": [
    "# DSO takes back the load response from each aggregator\n",
    "dso.optimalPrice(LAs)"
   ]
  },
  {
   "cell_type": "code",
   "execution_count": null,
   "metadata": {},
   "outputs": [],
   "source": []
  },
  {
   "cell_type": "code",
   "execution_count": null,
   "metadata": {},
   "outputs": [],
   "source": [
    "# import gameanalysis\n",
    "# import numpy as np\n",
    "\n",
    "# # Define the DSO and aggregator objects\n",
    "# totalHours = 24\n",
    "# marginalCost = np.random.rand(totalHours)\n",
    "# unitSalePrice = np.random.rand(totalHours)\n",
    "# maxPriceReference = 1\n",
    "# preferenceSatisfaction = np.random.rand(totalHours)\n",
    "# actualLoad = np.random.rand(totalHours)\n",
    "# nominalDemand = np.random.rand(totalHours)\n",
    "# minimumDemand = np.random.rand(totalHours)\n",
    "# maximumDemand = np.random.rand(totalHours)\n",
    "\n",
    "# dso = gameanalysis.StackelbergGame(DSO.numberOfAggregators)\n",
    "# for i in range(DSO.numberOfAggregators):\n",
    "#     agg = DSO.aggregators[i]\n",
    "#     u = np.zeros((totalHours, totalHours))\n",
    "#     for j in range(totalHours):\n",
    "#         u[j, :] = dso.devfn(DSO.utilityFunction, agg, j)\n",
    "#     dso.add_player(u)\n",
    "\n",
    "# # Calculate the equilibrium strategy for the DSO\n",
    "# dso_eq = dso.solve()[0]\n",
    "\n",
    "# # Calculate the equilibrium strategies for each aggregator\n",
    "# for i in range(DSO.numberOfAggregators):\n",
    "#     agg = DSO.aggregators[i]\n",
    "#     agg_strategies = []\n",
    "#     for j in range(totalHours):\n",
    "#         s = dso_eq.strategies[agg.index][j, :]\n",
    "#         agg_strategies.append(s)\n",
    "#     agg_eq = gameanalysis.regret.mixture_regret(\n",
    "#         agg_strategies, DSO.aggregators[i].utilityFunction)\n"
   ]
  }
 ],
 "metadata": {
  "kernelspec": {
   "display_name": "Python 3",
   "language": "python",
   "name": "python3"
  },
  "language_info": {
   "codemirror_mode": {
    "name": "ipython",
    "version": 3
   },
   "file_extension": ".py",
   "mimetype": "text/x-python",
   "name": "python",
   "nbconvert_exporter": "python",
   "pygments_lexer": "ipython3",
   "version": "3.9.9"
  },
  "orig_nbformat": 4
 },
 "nbformat": 4,
 "nbformat_minor": 2
}
