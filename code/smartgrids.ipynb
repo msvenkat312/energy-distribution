{
 "cells": [
  {
   "cell_type": "code",
   "execution_count": 1,
   "metadata": {},
   "outputs": [],
   "source": [
    "import numpy as np\n",
    "import matplotlib.pyplot as plt\n",
    "import pandas as pd\n",
    "import random"
   ]
  },
  {
   "cell_type": "code",
   "execution_count": 3,
   "metadata": {},
   "outputs": [],
   "source": [
    "class DSO:\n",
    "\tdef __init__(self, totalHours, marginalCost, unitSalePrice):\n",
    "\t\tself.totalHours = totalHours\n",
    "\t\tself.numberOfAggregators = 0\n",
    "\t\tself.marginalCost = marginalCost\n",
    "\t\tself.unitSalePrice = unitSalePrice\n",
    "\t\tself.aggregators = []\n",
    "\t\tself.maxUtility = 0\n",
    "\n",
    "\tdef addAggregator(self, aggregator):\n",
    "\t\tself.aggregators.append(aggregator)\n",
    "\t\tself.numberOfAggregators += 1\n",
    "\n",
    "\tdef getAggregators(self):\n",
    "\t\treturn self.aggregators\n",
    "\n",
    "\tdef Sfunction(self, aggregator, tIndex):\n",
    "\t\treturn aggregator.maximumDemand[tIndex] * self.maxPriceReference * (1 - np.exp(-aggregator.preferenceSatisfaction[tIndex] * (aggregator.actualLoad[tIndex] / aggregator.nominalDemand[tIndex])))\n",
    "\n",
    "\tdef utilityFunction(self, m, theta, omega):\n",
    "\t\tsum = 0\n",
    "\t\tfor i in range(self.numberOfAggregators):\n",
    "\t\t\tagg = self.aggregators[i]\n",
    "\t\t\tfor j in range(self.totalHours):\n",
    "\t\t\t\tsum += self.unitSalePrice[j] * agg.actualLoad[j] - self.marginalCost[j] * agg.actualLoad[j] + omega * self.Sfunction(agg, j)\n",
    "\t\tsum -= theta*m\n",
    "\t\treturn sum\n",
    "\t\n",
    "\tdef optimalPrice(self):\n",
    "\t\treturn self.utilityFunction(0, 0, 0)\n",
    "\t\t\n",
    "\n",
    "class Aggregator:\n",
    "\tdef __init__(self, totalHours, nominalDemand, minimumDemand, maximumDemand, maxPriceReference, preferenceSatisfaction, actualLoad):\n",
    "\t\tself.totalHours = totalHours\n",
    "\t\tself.nominalDemand = nominalDemand\n",
    "\t\tself.minimumDemand = minimumDemand\n",
    "\t\tself.maximumDemand = maximumDemand\n",
    "\t\tself.maxPriceReference = maxPriceReference\n",
    "\t\tself.preferenceSatisfaction = preferenceSatisfaction\n",
    "\t\tself.actualLoad = actualLoad\n",
    "\t\tself.currentUtility = 0\n",
    "\t\tself.bestLoadResponse = []\n",
    "\n",
    "\tdef utilityFunction(self, DSO):\n",
    "\t\tsum = 0\n",
    "\t\tfor i in range(DSO.totalHours):\n",
    "\t\t\tsum += DSO.SFunction(self, i) - DSO.unitSalePrice[i] * self.actualLoad[i]\n",
    "\t\treturn sum\n",
    "\n",
    "\tdef optimalDR(self, DSO):\n",
    "\t\tfor j in range(DSO.totalHours):\n",
    "\t\t\tself.bestLoadResponse[j] = (DSO.nominalDemand[j] / self.preferenceSatisfaction[j]) * (np.log((self.preferenceSatisfaction[j] * self.maxPriceReference) / DSO.unitSalePrice[j]))\n"
   ]
  },
  {
   "cell_type": "code",
   "execution_count": 4,
   "metadata": {},
   "outputs": [],
   "source": [
    "# dso = DSO()\n",
    "# LAs = []\n",
    "\n",
    "# for i in range(3):\n",
    "#     LAs.append(Aggregator())"
   ]
  }
 ],
 "metadata": {
  "kernelspec": {
   "display_name": "Python 3",
   "language": "python",
   "name": "python3"
  },
  "language_info": {
   "codemirror_mode": {
    "name": "ipython",
    "version": 3
   },
   "file_extension": ".py",
   "mimetype": "text/x-python",
   "name": "python",
   "nbconvert_exporter": "python",
   "pygments_lexer": "ipython3",
   "version": "3.9.9"
  },
  "orig_nbformat": 4
 },
 "nbformat": 4,
 "nbformat_minor": 2
}
