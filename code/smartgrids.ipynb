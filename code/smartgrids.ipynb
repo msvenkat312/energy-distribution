{
 "cells": [
  {
   "cell_type": "code",
   "execution_count": 2,
   "metadata": {},
   "outputs": [],
   "source": [
    "#implementing Energy Distribution using Game Theory\n",
    "import numpy as np\n",
    "import matplotlib.pyplot as plt\n",
    "import pandas as pd\n",
    "import random"
   ]
  },
  {
   "cell_type": "code",
   "execution_count": 2,
   "metadata": {},
   "outputs": [],
   "source": [
    "class DSO:\n",
    "    def __init__(self, totalHours, numberOfAggregators, marginalCost, unitSalePrice):\n",
    "        self.totalHours = totalHours\n",
    "        self.numberOfAggregators = numberOfAggregators\n",
    "        self.marginalCost = marginalCost\n",
    "        self.unitSalePrice = unitSalePrice\n",
    "        self.aggregators = []\n",
    "    \n",
    "    def addAggregator(self, aggregator):\n",
    "        self.aggregators.append(aggregator)\n",
    "\n",
    "    def getAggregators(self):\n",
    "        return self.aggregators\n",
    "    \n",
    "    def Sfunction(self, aggregator, tIndex):\n",
    "        return aggregator.maximumDemand[tIndex]*self.maxPriceReference*(1-np.exp(-aggregator.preferenceSatisfaction[tIndex]*aggregator.actualLoad[tIndex]/aggregator.nominalDemand[tIndex]))\n",
    "    \n",
    "    def utilityFunction(self, m, theta, omega):\n",
    "        sum=0\n",
    "        for i in range(self.numberOfAggregators):\n",
    "            agg = self.aggregators[i]\n",
    "            for j in range(self.totalHours):\n",
    "                sum+=self.unitSalePrice[j]*agg.actualLoad[j]-self.marginalCost[j]*agg.actualLoad[j]+omega * self.Sfunction(agg, j)\n",
    "        sum=sum-theta*m\n",
    "        return sum\n",
    "\n",
    "\n",
    "class Aggregator:\n",
    "    def __init__(self, nominalDemand, minimumDemand, maximumDemand, maxPriceReference, preferenceSatisfaction, actualLoad):\n",
    "        self.nominalDemand = nominalDemand\n",
    "        self.minimumDemand = minimumDemand\n",
    "        self.maximumDemand = maximumDemand\n",
    "        self.maxPriceReference = maxPriceReference\n",
    "        self.preferenceSatisfaction = preferenceSatisfaction\n",
    "        self.actualLoad = actualLoad\n",
    "        self.currentUtility = 0\n",
    "\n",
    "    def utilityFunction(self, DSO):\n",
    "        sum=0\n",
    "        for i in range(DSO.totalHours):\n",
    "            sum+=DSO.SFunction(self, i)-DSO.unitSalePrice[i]*self.actualLoad[i]\n",
    "        return sum\n",
    "\n",
    "    "
   ]
  },
  {
   "cell_type": "code",
   "execution_count": null,
   "metadata": {},
   "outputs": [],
   "source": [
    "dso = DSO(24, 3, [0.1, 0.2, 0.3, 0.4, 0.5, 0.6, 0.7, 0.8, 0.9, 1, 1.1, 1.2, 1.3, 1.4, 1.5, 1.6, 1.7, 1.8, 1.9, 2, 2.1, 2.2, 2.3, 2.4], [0.1, 0.2, 0.3, 0.4, 0.5, 0.6, 0.7, 0.8, 0.9, 1, 1.1, 1.2, 1.3, 1.4, 1.5, 1.6, 1.7, 1.8, 1.9, 2, 2.1, 2.2, 2.3, 2.4])\n",
    "LAs = [] # list of aggregators\n",
    "\n",
    "# create 3 aggregators\n",
    "for i in range(3):\n",
    "    LAs.append(Aggregator())\n",
    "\n",
    "\n"
   ]
  }
 ],
 "metadata": {
  "kernelspec": {
   "display_name": "Python 3",
   "language": "python",
   "name": "python3"
  },
  "language_info": {
   "codemirror_mode": {
    "name": "ipython",
    "version": 3
   },
   "file_extension": ".py",
   "mimetype": "text/x-python",
   "name": "python",
   "nbconvert_exporter": "python",
   "pygments_lexer": "ipython3",
   "version": "3.9.9"
  },
  "orig_nbformat": 4
 },
 "nbformat": 4,
 "nbformat_minor": 2
}
