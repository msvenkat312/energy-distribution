{
 "cells": [
  {
   "attachments": {},
   "cell_type": "markdown",
   "metadata": {},
   "source": [
    "Basic model of the implementation with a single iteration"
   ]
  },
  {
   "cell_type": "code",
   "execution_count": null,
   "metadata": {},
   "outputs": [],
   "source": [
    "import numpy as np\n",
    "import matplotlib.pyplot as plt\n",
    "import pandas as pd\n",
    "import random"
   ]
  },
  {
   "cell_type": "code",
   "execution_count": null,
   "metadata": {},
   "outputs": [],
   "source": [
    "class DSO:\n",
    "\tdef __init__(self, totalHours, marginalCost, unitSalePrice, maxPriceReference):\n",
    "\t\tself.totalHours = totalHours\n",
    "\t\tself.numberOfAggregators = 0\n",
    "\t\tself.marginalCost = marginalCost\n",
    "\t\tself.unitSalePrice = unitSalePrice\n",
    "\t\tself.maxPriceReference = maxPriceReference\n",
    "\t\tself.aggregators = []\n",
    "\t\tself.maxUtility = 0\n",
    "\t\tself.m = 0\n",
    "\n",
    "\tdef addAggregator(self, aggregator):\n",
    "\t\tself.aggregators.append(aggregator)\n",
    "\t\tself.numberOfAggregators = self.numberOfAggregators + 1\n",
    "\n",
    "\tdef getAggregators(self):\n",
    "\t\treturn self.aggregators\n",
    "\n",
    "\tdef Sfunction(self, aggregator, tIndex):\n",
    "\t\treturn aggregator.maximumDemand[tIndex] * aggregator.maxPriceReference * (1 - np.exp(-aggregator.preferenceSatisfaction[tIndex] * (aggregator.bestLoadResponse[tIndex] / aggregator.nominalDemand[tIndex])))\n",
    "\t\n",
    "\tdef CostFunction(self, tIndex):\n",
    "\t\treturn self.marginalCost[tIndex]\n",
    "\t\n",
    "\tdef getLeftLimit(self):\n",
    "\t\tleftLimit = [0 for i in range(self.totalHours)]\n",
    "\t\tfor i in range(self.totalHours):\n",
    "\t\t\tmx = 0\n",
    "\t\t\tfor j in range(self.numberOfAggregators):\n",
    "\t\t\t\tagg = self.aggregators[j]\n",
    "\t\t\t\tmx = max(mx, agg.preferenceSatisfaction[i] * agg.maxPriceReference * np.exp(-agg.preferenceSatisfaction[i] * (agg.maximumDemand[i] / agg.nominalDemand[i])))\n",
    "\t\t\tleftLimit[i] = mx\n",
    "\t\treturn leftLimit\n",
    "\t\n",
    "\tdef getRightLimit(self):\n",
    "\t\trightLimit = [0 for i in range(self.totalHours)]\n",
    "\t\tfor i in range(self.totalHours):\n",
    "\t\t\tmx = 0\n",
    "\t\t\tfor j in range(self.numberOfAggregators):\n",
    "\t\t\t\tagg = self.aggregators[j]\n",
    "\t\t\t\tmx = max(mx, agg.preferenceSatisfaction[i] * agg.maxPriceReference * np.exp(-agg.preferenceSatisfaction[i] * (agg.minimumDemand[i] / agg.nominalDemand[i])))\n",
    "\t\t\trightLimit[i] = mx\n",
    "\t\treturn rightLimit\n",
    "\t\n",
    "\tdef getUnitSalePriceRange(self):\n",
    "\t\tminPrice = self.marginalCost\n",
    "\t\tleftLimit = self.getLeftLimit()\n",
    "\t\tminPrice = np.minimum(minPrice, leftLimit)\n",
    "\n",
    "\t\tmaxPrice = self.maxPriceReference\n",
    "\t\trightLimit = self.getRightLimit()\n",
    "\t\tmaxPrice = np.maximum(maxPrice, rightLimit)\n",
    "\n",
    "\t\treturn minPrice, maxPrice\n",
    "\n",
    "\tdef generateUnitSalePrice(self):\n",
    "\t\tminPrice, maxPrice = self.getUnitSalePriceRange()\n",
    "\t\tfor i in range(self.totalHours):\n",
    "\t\t\tself.unitSalePrice[i] = random.uniform(minPrice[i], maxPrice[i])\n",
    "\n",
    "\tdef generateM(self):\n",
    "\t\tm = 0\n",
    "\t\tmx = 0\n",
    "\t\tfor i in range(self.totalHours):\n",
    "\t\t\tsum = 0\n",
    "\t\t\tfor j in range(self.numberOfAggregators):\n",
    "\t\t\t\tagg = self.aggregators[j]\n",
    "\t\t\t\tsum = sum + agg.bestLoadResponse[i]\n",
    "\t\t\tmx = max(mx, sum)\n",
    "\t\tm = random.uniform(mx, mx*10)\n",
    "\t\tself.m = m\n",
    "\n",
    "\tdef utilityFunction(self, theta, omega):\n",
    "\t\tmx = -1000000000000\n",
    "\t\tfor j in range(self.totalHours):\n",
    "\t\t\tsum = 0\n",
    "\t\t\tfor i in range(self.numberOfAggregators):\n",
    "\t\t\t\tagg = self.aggregators[i]\n",
    "\t\t\t\tsum = sum + self.unitSalePrice[j] * agg.bestLoadResponse[j] - self.CostFunction(j) * agg.bestLoadResponse[j] + omega * self.Sfunction(agg, j)\n",
    "\t\t\tsum = sum - theta*self.m\n",
    "\t\t\tmx = max(mx, sum)\n",
    "\t\treturn mx\n",
    "\n",
    "\tdef getPAR(self):\n",
    "\t\tsum = 0\n",
    "\t\tfor i in range(self.totalHours):\n",
    "\t\t\tfor j in range(self.numberOfAggregators):\n",
    "\t\t\t\tsum = sum + self.aggregators[j].bestLoadResponse[i]\n",
    "\t\treturn (self.m * self.totalHours) / (sum)\n",
    "\n",
    "class Aggregator:\n",
    "\tdef __init__(self, totalHours, nominalDemand, minimumDemand, maximumDemand, maxPriceReference, preferenceSatisfaction):\n",
    "\t\tself.totalHours = totalHours\n",
    "\t\tself.nominalDemand = nominalDemand\n",
    "\t\tself.minimumDemand = minimumDemand\n",
    "\t\tself.maximumDemand = maximumDemand\n",
    "\t\tself.maxPriceReference = maxPriceReference\n",
    "\t\tself.preferenceSatisfaction = preferenceSatisfaction\n",
    "\t\tself.currentUtility = 0\n",
    "\t\tself.bestLoadResponse = [0 for i in range(totalHours)]\n",
    "\n",
    "\tdef utilityFunction(self, DSO):\n",
    "\t\tsum = 0\n",
    "\t\tfor i in range(DSO.totalHours):\n",
    "\t\t\tsum = sum + DSO.Sfunction(self, i) - (DSO.unitSalePrice[i] * self.bestLoadResponse[i])\n",
    "\t\treturn sum\n",
    "\n",
    "\tdef optimalDR(self, DSO, j):\n",
    "\t\tself.bestLoadResponse[j] = ((self.nominalDemand[j] / self.preferenceSatisfaction[j]) * (np.log((self.preferenceSatisfaction[j] * self.maxPriceReference) / DSO.unitSalePrice[j])))"
   ]
  },
  {
   "cell_type": "code",
   "execution_count": null,
   "metadata": {},
   "outputs": [],
   "source": [
    "datasetPath = '../dataset/'"
   ]
  },
  {
   "cell_type": "code",
   "execution_count": null,
   "metadata": {},
   "outputs": [],
   "source": [
    "numOfLA = 3\n",
    "numOfHours = 50"
   ]
  },
  {
   "cell_type": "code",
   "execution_count": null,
   "metadata": {},
   "outputs": [],
   "source": [
    "nominalDemands = []\n",
    "for i in range (0, 3):\n",
    "\tletter = chr(ord('A') + i)\n",
    "\tfileName = 'Home' + letter + '_hourly.csv'\n",
    "\tdf = pd.read_csv(datasetPath + fileName)\n",
    "\tdf = df[0:numOfHours]\n",
    "\t# Power is in kW\n",
    "\tnominalDemands.append(df['Power'].tolist())"
   ]
  },
  {
   "cell_type": "code",
   "execution_count": null,
   "metadata": {},
   "outputs": [],
   "source": [
    "LAs = []\n",
    "maxPriceReference = 100\n",
    "for i in range(numOfLA):\n",
    "\tnominalDemand = nominalDemands[i]\n",
    "\tmaxNominalDemand = max(nominalDemand)\n",
    "\tminimumDemand = np.random.uniform(0.0001, nominalDemand, numOfHours)\n",
    "\tmaximumDemand = np.random.uniform(nominalDemand, maxNominalDemand+1, numOfHours)\n",
    "\tpreferenceSatisfaction = np.random.uniform(0.1, 15, numOfHours)\n",
    "\tLAs.append(Aggregator(numOfHours, nominalDemand, minimumDemand, maximumDemand, maxPriceReference, preferenceSatisfaction))\n"
   ]
  },
  {
   "cell_type": "code",
   "execution_count": null,
   "metadata": {},
   "outputs": [],
   "source": [
    "marginalCost = np.random.randint(1, 7, numOfHours) # cent/kW\n",
    "unitSalePrice = np.random.randint(1, 7, numOfHours) # cent/kWh\n",
    "dso = DSO(numOfHours, marginalCost, unitSalePrice, maxPriceReference)"
   ]
  },
  {
   "cell_type": "code",
   "execution_count": null,
   "metadata": {},
   "outputs": [],
   "source": [
    "# append all the LAs to the DSO\n",
    "for i in range(numOfLA):\n",
    "\tdso.addAggregator(LAs[i])"
   ]
  },
  {
   "cell_type": "code",
   "execution_count": null,
   "metadata": {},
   "outputs": [],
   "source": [
    "# for each aggregator, find the optimal DR for each hour\n",
    "for i in range(numOfLA):\n",
    "\tagg = LAs[i]\n",
    "\tfor j in range(numOfHours):\n",
    "\t\tagg.optimalDR(dso, j)"
   ]
  },
  {
   "cell_type": "code",
   "execution_count": null,
   "metadata": {},
   "outputs": [],
   "source": [
    "# generate unit sale price for the DSO\n",
    "dso.generateUnitSalePrice()"
   ]
  },
  {
   "cell_type": "code",
   "execution_count": null,
   "metadata": {},
   "outputs": [],
   "source": [
    "# generate m for the DSO\n",
    "dso.generateM()"
   ]
  },
  {
   "cell_type": "code",
   "execution_count": null,
   "metadata": {},
   "outputs": [],
   "source": [
    "# utility function for the DSO\n",
    "theta = 0.5\n",
    "omega = 0.5\n",
    "print(\"utility function: \", dso.utilityFunction(theta, omega))"
   ]
  },
  {
   "cell_type": "code",
   "execution_count": null,
   "metadata": {},
   "outputs": [],
   "source": [
    "# print Unit Sale Price\n",
    "print(\"Unit Sale Price: \", dso.unitSalePrice)"
   ]
  },
  {
   "cell_type": "code",
   "execution_count": null,
   "metadata": {},
   "outputs": [],
   "source": [
    "# print utility for each house\n",
    "for i in range(numOfLA):\n",
    "\tprint(\"LA\", i)\n",
    "\tut = LAs[i].utilityFunction(dso)\n",
    "\tprint(\"utility: \", ut)"
   ]
  },
  {
   "cell_type": "code",
   "execution_count": null,
   "metadata": {},
   "outputs": [],
   "source": [
    "# print PAR\n",
    "print(\"PAR: \", dso.getPAR())"
   ]
  },
  {
   "cell_type": "code",
   "execution_count": null,
   "metadata": {},
   "outputs": [],
   "source": [
    "# plot nominal demand of each LA\n",
    "for i in range(numOfLA):\n",
    "\tplt.plot(LAs[i].nominalDemand)\n",
    "plt.legend([chr(ord('A') + i) for i in range(numOfLA)])\n",
    "plt.show()"
   ]
  },
  {
   "cell_type": "code",
   "execution_count": null,
   "metadata": {},
   "outputs": [],
   "source": [
    "# plot user pref of each LA\n",
    "plt.figure(figsize=(50, 12), dpi=300)\n",
    "for i in range(numOfLA):\n",
    "\tplt.plot(LAs[i].preferenceSatisfaction)\n",
    "plt.legend([chr(ord('A') + i) for i in range(numOfLA)])\n",
    "plt.show()"
   ]
  },
  {
   "cell_type": "code",
   "execution_count": null,
   "metadata": {},
   "outputs": [],
   "source": [
    "# plot marginal cost\n",
    "plt.plot(dso.marginalCost)\n",
    "plt.show()"
   ]
  },
  {
   "cell_type": "code",
   "execution_count": null,
   "metadata": {},
   "outputs": [],
   "source": [
    "# plot bestLoadResponse of each LA\n",
    "plt.figure(figsize=(50, 12), dpi=300)\n",
    "for i in range(numOfLA):\n",
    "\tplt.plot(LAs[i].bestLoadResponse)\n",
    "plt.legend([chr(ord('A') + i) for i in range(numOfLA)])\n",
    "plt.show()"
   ]
  },
  {
   "cell_type": "code",
   "execution_count": null,
   "metadata": {},
   "outputs": [],
   "source": [
    "# # save the variables for each LA\n",
    "# for i in range(numOfLA):\n",
    "# \tletter = chr(ord('A') + i)\n",
    "# \tfileName = 'Home' + letter + '_hourly.csv'\n",
    "# \tdf = pd.read_csv(datasetPath + fileName)\n",
    "# \tdf = df[0:numOfHours]\n",
    "# \tdf['nominalDemand'] = LAs[i].nominalDemand\n",
    "# \tdf['minimumDemand'] = LAs[i].minimumDemand\n",
    "# \tdf['maximumDemand'] = LAs[i].maximumDemand\n",
    "# \tdf['preferenceSatisfaction'] = LAs[i].preferenceSatisfaction\n",
    "# \tdf['bestLoadResponse'] = LAs[i].bestLoadResponse\n",
    "# \tdf.to_csv(datasetPath + 'Home' + letter + '_hourly_basic_results.csv', index=False)"
   ]
  },
  {
   "cell_type": "code",
   "execution_count": null,
   "metadata": {},
   "outputs": [],
   "source": [
    "# # save the variables for the DSO\n",
    "# df = pd.DataFrame()\n",
    "# df['marginalCost'] = dso.marginalCost\n",
    "# df['unitSalePrice'] = dso.unitSalePrice\n",
    "# df['PAR'] = dso.getPAR()\n",
    "# df.to_csv(datasetPath + 'DSO_hourly_basic_results.csv', index=False)"
   ]
  }
 ],
 "metadata": {
  "kernelspec": {
   "display_name": "Python 3",
   "language": "python",
   "name": "python3"
  },
  "language_info": {
   "codemirror_mode": {
    "name": "ipython",
    "version": 3
   },
   "file_extension": ".py",
   "mimetype": "text/x-python",
   "name": "python",
   "nbconvert_exporter": "python",
   "pygments_lexer": "ipython3",
   "version": "3.9.9"
  },
  "orig_nbformat": 4
 },
 "nbformat": 4,
 "nbformat_minor": 2
}
