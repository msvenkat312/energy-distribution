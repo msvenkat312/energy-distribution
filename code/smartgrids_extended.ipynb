{
 "cells": [
  {
   "attachments": {},
   "cell_type": "markdown",
   "metadata": {},
   "source": [
    "Extended model of the implementation"
   ]
  },
  {
   "cell_type": "code",
   "execution_count": null,
   "metadata": {},
   "outputs": [],
   "source": [
    "import numpy as np\n",
    "import matplotlib.pyplot as plt\n",
    "import pandas as pd\n",
    "import random"
   ]
  },
  {
   "cell_type": "code",
   "execution_count": null,
   "metadata": {},
   "outputs": [],
   "source": [
    "class DSO:\n",
    "\tdef __init__(self, totalHours, marginalCost, unitSalePrice, maxPriceReference):\n",
    "\t\tself.totalHours = totalHours\n",
    "\t\tself.numberOfAggregators = 0\n",
    "\t\tself.marginalCost = marginalCost\n",
    "\t\tself.unitSalePrice = unitSalePrice\n",
    "\t\tself.maxPriceReference = maxPriceReference\n",
    "\t\tself.aggregators = []\n",
    "\t\tself.maxUtility = 0\n",
    "\t\tself.m = 0\n",
    "\n",
    "\tdef addAggregator(self, aggregator):\n",
    "\t\tself.aggregators.append(aggregator)\n",
    "\t\tself.numberOfAggregators = self.numberOfAggregators + 1\n",
    "\n",
    "\tdef getAggregators(self):\n",
    "\t\treturn self.aggregators\n",
    "\n",
    "\tdef Sfunction(self, aggregator, tIndex):\n",
    "\t\treturn aggregator.maximumDemand[tIndex] * aggregator.maxPriceReference[tIndex] * (1 - np.exp(-aggregator.preferenceSatisfaction[tIndex] * (aggregator.bestLoadResponse[tIndex] / aggregator.nominalDemand[tIndex])))\n",
    "\t\n",
    "\tdef CostFunction(self, aggregator, tIndex):\n",
    "\t\treturn self.marginalCost[tIndex]\n",
    "\t\n",
    "\tdef getLeftLimit(self):\n",
    "\t\tleftLimit = [0 for i in range(self.totalHours)]\n",
    "\t\tfor i in range(self.totalHours):\n",
    "\t\t\tmx = 0\n",
    "\t\t\tfor j in range(self.numberOfAggregators):\n",
    "\t\t\t\tagg = self.aggregators[j]\n",
    "\t\t\t\tmx = max(mx, agg.preferenceSatisfaction[i] * agg.maxPriceReference[i] * np.exp(-agg.preferenceSatisfaction[i] * (agg.maximumDemand[i] / agg.nominalDemand[i])))\n",
    "\t\t\tleftLimit[i] = mx\n",
    "\t\treturn leftLimit\n",
    "\t\n",
    "\tdef getRightLimit(self):\n",
    "\t\trightLimit = [0 for i in range(self.totalHours)]\n",
    "\t\tfor i in range(self.totalHours):\n",
    "\t\t\tmx = 0\n",
    "\t\t\tfor j in range(self.numberOfAggregators):\n",
    "\t\t\t\tagg = self.aggregators[j]\n",
    "\t\t\t\tmx = max(mx, agg.preferenceSatisfaction[i] * agg.maxPriceReference[i] * np.exp(-agg.preferenceSatisfaction[i] * (agg.minimumDemand[i] / agg.nominalDemand[i])))\n",
    "\t\t\trightLimit[i] = mx\n",
    "\t\treturn rightLimit\n",
    "\t\n",
    "\tdef getUnitSalePriceRange(self):\n",
    "\t\tminPrice = self.marginalCost\n",
    "\t\tleftLimit = self.getLeftLimit()\n",
    "\t\tminPrice = np.minimum(minPrice, leftLimit)\n",
    "\n",
    "\t\tmaxPrice = self.maxPriceReference\n",
    "\t\trightLimit = self.getRightLimit()\n",
    "\t\tmaxPrice = np.maximum(maxPrice, rightLimit)\n",
    "\n",
    "\t\treturn minPrice, maxPrice\n",
    "\t\n",
    "\tdef setUnitSalePrice(self, unitSalePrice, tIndex):\n",
    "\t\tself.unitSalePrice[tIndex] = unitSalePrice\n",
    "\n",
    "\tdef generateM(self):\n",
    "\t\tm = 0\n",
    "\t\tmx = 0\n",
    "\t\tfor i in range(self.totalHours):\n",
    "\t\t\tsum = 0\n",
    "\t\t\tfor j in range(self.numberOfAggregators):\n",
    "\t\t\t\tagg = self.aggregators[j]\n",
    "\t\t\t\tsum = sum + agg.bestLoadResponse[i]\n",
    "\t\t\tmx = max(mx, sum)\n",
    "\t\tm = random.uniform(mx, mx*10)\n",
    "\t\tself.m = m\n",
    "\n",
    "\tdef utilityFunction(self, m, theta, omega):\n",
    "\t\tself.generateM()\n",
    "\t\tprint('m value:', self.m)\n",
    "\n",
    "\t\tmx = -1000000000000\n",
    "\t\tfor j in range(self.totalHours):\n",
    "\t\t\tsum = 0\n",
    "\t\t\tfor i in range(self.numberOfAggregators):\n",
    "\t\t\t\tagg = self.aggregators[i]\n",
    "\t\t\t\tsum = sum + self.unitSalePrice[j] * agg.bestLoadResponse[j] - self.CostFunction(agg, j) * agg.bestLoadResponse[j] + omega * self.Sfunction(agg, j)\n",
    "\t\t\tsum = sum - theta*m\n",
    "\t\t\tmx = max(mx, sum)\n",
    "\t\treturn mx\n",
    "\t\n",
    "\tdef partialUtilityFunction(self, m, theta, omega, tIndex):\n",
    "\t\tsum = 0\n",
    "\t\tfor i in range(self.numberOfAggregators):\n",
    "\t\t\tagg = self.aggregators[i]\n",
    "\t\t\tsum = sum + self.unitSalePrice[tIndex] * agg.bestLoadResponse[tIndex] - self.CostFunction(agg, tIndex) * agg.bestLoadResponse[tIndex] + omega * self.Sfunction(agg, tIndex)\n",
    "\t\treturn sum\n",
    "\n",
    "\tdef getPAR(self):\n",
    "\t\tsum = 0\n",
    "\t\tfor i in range(self.totalHours):\n",
    "\t\t\tfor j in range(self.numberOfAggregators):\n",
    "\t\t\t\tsum = sum + self.aggregators[j].bestLoadResponse[i]\n",
    "\t\treturn (self.m * self.totalHours) / (sum)\n",
    "\n",
    "class Aggregator:\n",
    "\tdef __init__(self, totalHours, nominalDemand, minimumDemand, maximumDemand, maxPriceReference, preferenceSatisfaction):\n",
    "\t\tself.totalHours = totalHours\n",
    "\t\tself.nominalDemand = nominalDemand\n",
    "\t\tself.minimumDemand = minimumDemand\n",
    "\t\tself.maximumDemand = maximumDemand\n",
    "\t\tself.maxPriceReference = maxPriceReference\n",
    "\t\tself.preferenceSatisfaction = preferenceSatisfaction\n",
    "\t\tself.currentUtility = 0\n",
    "\t\tself.bestLoadResponse = [0 for i in range(totalHours)]\n",
    "\n",
    "\tdef utilityFunction(self, DSO):\n",
    "\t\tsum = 0\n",
    "\t\tfor i in range(DSO.totalHours):\n",
    "\t\t\tsum = sum + DSO.Sfunction(self, i) - (DSO.unitSalePrice[i] * self.bestLoadResponse[i])\n",
    "\t\treturn sum\n",
    "\n",
    "\tdef optimalDR(self, DSO, j):\n",
    "\t\t\treturn ((self.nominalDemand[j] / self.preferenceSatisfaction[j]) * (np.log((self.preferenceSatisfaction[j] * self.maxPriceReference[j]) / DSO.unitSalePrice[j])))\n",
    "\n",
    "\tdef checkConstraints(self, tIndex):\n",
    "\t\tflag = True\n",
    "\t\tif self.bestLoadResponse[tIndex] < self.minimumDemand[tIndex]:\n",
    "\t\t\tflag = False\n",
    "\t\tif self.bestLoadResponse[tIndex] > self.maximumDemand[tIndex]:\n",
    "\t\t\tflag = False\n",
    "\t\treturn flag\n"
   ]
  },
  {
   "cell_type": "code",
   "execution_count": null,
   "metadata": {},
   "outputs": [],
   "source": [
    "datasetPath = '../dataset/'"
   ]
  },
  {
   "cell_type": "code",
   "execution_count": null,
   "metadata": {},
   "outputs": [],
   "source": [
    "numOfLA = 3\n",
    "numOfHours = 50"
   ]
  },
  {
   "cell_type": "code",
   "execution_count": null,
   "metadata": {},
   "outputs": [],
   "source": [
    "nominalDemands = []\n",
    "for i in range (0, 3):\n",
    "\tletter = chr(ord('A') + i)\n",
    "\tfileName = 'Home' + letter + '_hourly.csv'\n",
    "\tdf = pd.read_csv(datasetPath + fileName)\n",
    "\tdf = df[0:numOfHours]\n",
    "\t# Power is in kW\n",
    "\tnominalDemands.append(df['Power'].tolist())"
   ]
  },
  {
   "cell_type": "code",
   "execution_count": null,
   "metadata": {},
   "outputs": [],
   "source": [
    "LAs = []\n",
    "for i in range(numOfLA):\n",
    "\tnominalDemand = nominalDemands[i]\n",
    "\tmaxNominalDemand = max(nominalDemand)\n",
    "\tminimumDemand = np.random.uniform(0.0001, nominalDemand, numOfHours)\n",
    "\tmaximumDemand = np.random.uniform(nominalDemand, maxNominalDemand+1, numOfHours)\n",
    "\tpreferenceSatisfaction = np.random.uniform(0.1, 15, numOfHours)\n",
    "\tmaxPriceReference = np.random.randint(1000, 10000000, numOfHours)\n",
    "\tLAs.append(Aggregator(numOfHours, nominalDemand, minimumDemand, maximumDemand, maxPriceReference, preferenceSatisfaction))\n"
   ]
  },
  {
   "cell_type": "code",
   "execution_count": null,
   "metadata": {},
   "outputs": [],
   "source": [
    "marginalCost = np.random.randint(1, 7, numOfHours) # cent/kW\n",
    "unitSalePrice = np.random.randint(1, 7, numOfHours) # cent/kWh\n",
    "dso = DSO(numOfHours, marginalCost, unitSalePrice, maxPriceReference)"
   ]
  },
  {
   "cell_type": "code",
   "execution_count": null,
   "metadata": {},
   "outputs": [],
   "source": [
    "# append all the LAs to the DSO\n",
    "for i in range(numOfLA):\n",
    "\tdso.addAggregator(LAs[i])"
   ]
  },
  {
   "cell_type": "code",
   "execution_count": null,
   "metadata": {},
   "outputs": [],
   "source": [
    "omega = 5\n",
    "theta = 0.01\n",
    "minP, maxP = dso.getUnitSalePriceRange()\n",
    "flag1 = True\n",
    "while flag1:\n",
    "    noValues = [True for i in range(numOfHours)]\n",
    "    for i in range(numOfHours):\n",
    "        flag2 = True\n",
    "        temp = 0\n",
    "        while flag2:\n",
    "            price = minP[i]\n",
    "            flag3 = [False for i in range(numOfLA)]\n",
    "            flag4 = [False for i in range(numOfLA)]\n",
    "            flag5 = [False for i in range(numOfLA)]\n",
    "            while price <= maxP[i]:\n",
    "                # print(\"price: \", price)\n",
    "                dso.setUnitSalePrice(price, i)\n",
    "                flag = [False for i in range(numOfLA)]\n",
    "                for j in range(numOfLA):\n",
    "                    actualLoad = LAs[j].optimalDR(dso,i)\n",
    "                    LAs[j].bestLoadResponse[i] = actualLoad\n",
    "                    flag[j] = LAs[j].checkConstraints(i)\n",
    "                if flag.count(True) == 3:\n",
    "                    flag2 = False\n",
    "                    temp = price\n",
    "                    noValues[i] = False\n",
    "                    break\n",
    "                #if any two values of flag are true and the rest are false\n",
    "                t1=0\n",
    "                t2=0\n",
    "                t3=0\n",
    "                if flag.count(True) == 2 and flag.count(False) == 1:\n",
    "                    t1 = price\n",
    "                    flag3 = flag\n",
    "                if flag.count(True) == 1 and flag.count(False) == 2:\n",
    "                    t2 = price\n",
    "                    flag4 = flag\n",
    "                if flag.count(True) == 0 and flag.count(False) == 3:\n",
    "                    t3 = price\n",
    "                    flag5 = flag\n",
    "                price += 100\n",
    "            if t1!=0:\n",
    "                index = flag3.index(False)\n",
    "                difference = dso.unitSalePrice[i] - LAs[index].maxPriceReference[i]\n",
    "                LAs[index].maxPriceReference[i] = dso.unitSalePrice[i] + 100\n",
    "                LAs[index].preferenceSatisfaction[i] = LAs[index].preferenceSatisfaction[i] * difference/dso.unitSalePrice[i]\n",
    "                if (LAs[0].checkConstraints(i) and LAs[1].checkConstraints(i) and LAs[2].checkConstraints(i)):\n",
    "                    flag2 = False\n",
    "                    temp = price\n",
    "                    noValues[i] = False\n",
    "                    break\n",
    "            elif t2!=0:\n",
    "                #do the same as above but for both the LAs with false values\n",
    "                index1 = flag4.index(False)\n",
    "                index2 = flag4.index(False, index1+1)\n",
    "                difference1 = dso.unitSalePrice[i] - LAs[index1].maxPriceReference[i]\n",
    "                difference2 = dso.unitSalePrice[i] - LAs[index2].maxPriceReference[i]\n",
    "                LAs[index1].maxPriceReference[i] = dso.unitSalePrice[i] + 100\n",
    "                LAs[index1].preferenceSatisfaction[i] = LAs[index1].preferenceSatisfaction[i] * difference1/dso.unitSalePrice[i]\n",
    "                LAs[index2].maxPriceReference[i] = dso.unitSalePrice[i] + 100\n",
    "                LAs[index2].preferenceSatisfaction[i] = LAs[index2].preferenceSatisfaction[i] * difference2/dso.unitSalePrice[i]\n",
    "                if (LAs[0].checkConstraints(i) and LAs[1].checkConstraints(i) and LAs[2].checkConstraints(i)):\n",
    "                    flag2 = False\n",
    "                    temp = price\n",
    "                    noValues[i] = False\n",
    "                    break\n",
    "            elif t3!=0:\n",
    "                #do the same as above but for all the LAs\n",
    "                for j in range(numOfLA):\n",
    "                    difference = dso.unitSalePrice[i] - LAs[j].maxPriceReference[i]\n",
    "                    LAs[j].maxPriceReference[i] = dso.unitSalePrice[i] + 100\n",
    "                    LAs[j].preferenceSatisfaction[i] = LAs[j].preferenceSatisfaction[i] * difference/dso.unitSalePrice[i]\n",
    "                if (LAs[0].checkConstraints(i) and LAs[1].checkConstraints(i) and LAs[2].checkConstraints(i)):\n",
    "                    flag2 = False\n",
    "                    temp = price\n",
    "                    noValues[i] = False\n",
    "                    break\n",
    "        dso.setUnitSalePrice(temp, i)\n",
    "    if all(item == False for item in noValues):\n",
    "        flag1 = False\n"
   ]
  },
  {
   "cell_type": "code",
   "execution_count": null,
   "metadata": {},
   "outputs": [],
   "source": [
    "# # save the variables for each LA\n",
    "# for i in range(numOfLA):\n",
    "# \tletter = chr(ord('A') + i)\n",
    "# \tfileName = 'Home' + letter + '_hourly.csv'\n",
    "# \tdf = pd.read_csv(datasetPath + fileName)\n",
    "# \tdf = df[0:numOfHours]\n",
    "# \tdf['nominalDemand'] = LAs[i].nominalDemand\n",
    "# \tdf['minimumDemand'] = LAs[i].minimumDemand\n",
    "# \tdf['maximumDemand'] = LAs[i].maximumDemand\n",
    "# \tdf['preferenceSatisfaction'] = LAs[i].preferenceSatisfaction\n",
    "# \tdf['bestLoadResponse'] = LAs[i].bestLoadResponse\n",
    "# \tdf.to_csv(datasetPath + 'Home' + letter + '_hourly_extended_results.csv', index=False)"
   ]
  },
  {
   "cell_type": "code",
   "execution_count": null,
   "metadata": {},
   "outputs": [],
   "source": [
    "# # save the variables for the DSO\n",
    "# df = pd.DataFrame()\n",
    "# df['marginalCost'] = dso.marginalCost\n",
    "# df['unitSalePrice'] = dso.unitSalePrice\n",
    "# df['PAR'] = dso.getPAR()\n",
    "# df.to_csv(datasetPath + 'DSO_hourly_extended_results.csv', index=False)"
   ]
  },
  {
   "cell_type": "code",
   "execution_count": null,
   "metadata": {},
   "outputs": [],
   "source": [
    "# print Unit Sale Price\n",
    "print(\"Unit Sale Price: \", dso.unitSalePrice)"
   ]
  },
  {
   "cell_type": "code",
   "execution_count": null,
   "metadata": {},
   "outputs": [],
   "source": [
    "# DSO gives the price for each hour & each LA calculates the optimal DR\n",
    "for i in range(numOfLA):\n",
    "\t# la = LAs[i]\n",
    "\tfor j in range(numOfHours):\n",
    "\t\t# la.optimalDR(dso, j)\n",
    "\t\tLAs[i].optimalDR(dso, j)"
   ]
  },
  {
   "cell_type": "code",
   "execution_count": null,
   "metadata": {},
   "outputs": [],
   "source": [
    "# print best load response for each LA\n",
    "for i in range(numOfLA): # kWh\n",
    "\tprint(\"LA\", i)\n",
    "\tprint(\"best load response: \", dso.aggregators[i].bestLoadResponse)"
   ]
  },
  {
   "cell_type": "code",
   "execution_count": null,
   "metadata": {},
   "outputs": [],
   "source": [
    "# DSO takes back the load response from each aggregator\n",
    "m = np.random.randint(1, 100)\n",
    "omega = 5\n",
    "theta = 0.01\n",
    "\n",
    "dso.maxUtility = dso.utilityFunction(m, theta, omega)\n",
    "dso.maxUtility"
   ]
  },
  {
   "cell_type": "code",
   "execution_count": null,
   "metadata": {},
   "outputs": [],
   "source": [
    "# DSO takes back the load response from each aggregator\n",
    "m = np.random.randint(1, 100)\n",
    "omega = 6\n",
    "theta = 0.02\n",
    "\n",
    "dso.maxUtility = dso.utilityFunction(m, theta, omega)\n",
    "dso.maxUtility"
   ]
  },
  {
   "cell_type": "code",
   "execution_count": null,
   "metadata": {},
   "outputs": [],
   "source": [
    "# DSO takes back the load response from each aggregator\n",
    "m = np.random.randint(1, 100)\n",
    "omega = 2\n",
    "theta = 0.1\n",
    "\n",
    "dso.maxUtility = dso.utilityFunction(m, theta, omega)\n",
    "dso.maxUtility"
   ]
  },
  {
   "cell_type": "code",
   "execution_count": null,
   "metadata": {},
   "outputs": [],
   "source": [
    "# print utility for each house\n",
    "for i in range(numOfLA):\n",
    "\tprint(\"LA\", i)\n",
    "\tut = LAs[i].utilityFunction(dso)\n",
    "\tprint(\"utility: \", ut)"
   ]
  },
  {
   "cell_type": "code",
   "execution_count": null,
   "metadata": {},
   "outputs": [],
   "source": [
    "dso.getPAR()"
   ]
  },
  {
   "cell_type": "code",
   "execution_count": null,
   "metadata": {},
   "outputs": [],
   "source": [
    "# plot nominal demand of each LA\n",
    "plt.figure(figsize=(20,8), dpi=300)\n",
    "plt.xlabel('Hour', fontsize=20)\n",
    "plt.ylabel('kWh', fontsize=20)\n",
    "plt.xticks(np.arange(0, numOfHours, 5), fontsize=15)\n",
    "plt.yticks(np.arange(0, 10, 2), fontsize=15)\n",
    "for i in range(numOfLA):\n",
    "\tplt.plot(LAs[i].nominalDemand)\n",
    "plt.legend([chr(ord('A') + i) for i in range(numOfLA)], fontsize=30)\n",
    "plt.show()"
   ]
  },
  {
   "cell_type": "code",
   "execution_count": null,
   "metadata": {},
   "outputs": [],
   "source": [
    "# plot user pref of each LA\n",
    "plt.figure(figsize=(50, 12), dpi=300)\n",
    "plt.xticks(np.arange(0, numOfHours, 5), fontsize=40)\n",
    "plt.yticks(fontsize=40)\n",
    "plt.xlabel('Hour', fontsize=40)\n",
    "plt.ylabel('User Preference', fontsize=40)\n",
    "for i in range(numOfLA):\n",
    "\tplt.plot(LAs[i].preferenceSatisfaction)\n",
    "plt.legend([chr(ord('A') + i) for i in range(numOfLA)], fontsize=40)\n",
    "plt.show()"
   ]
  },
  {
   "cell_type": "code",
   "execution_count": null,
   "metadata": {},
   "outputs": [],
   "source": [
    "# plot marginal cost\n",
    "plt.plot(dso.marginalCost)\n",
    "plt.xticks(np.arange(0, numOfHours, 5), fontsize=8)\n",
    "plt.yticks(np.arange(0, 7, 1), fontsize=8)\n",
    "plt.xlabel('Hour', fontsize=8)\n",
    "plt.ylabel('Marginal Cost', fontsize=8)\n",
    "plt.show()"
   ]
  },
  {
   "cell_type": "code",
   "execution_count": null,
   "metadata": {},
   "outputs": [],
   "source": [
    "# plot bestLoadResponse of each LA\n",
    "plt.figure(figsize=(50, 12), dpi=300)\n",
    "plt.xticks(np.arange(0, numOfHours, 5), fontsize=40)\n",
    "plt.yticks(np.arange(0, 15, 2), fontsize=40)\n",
    "plt.xlabel('Hour', fontsize=40)\n",
    "plt.ylabel('kWh', fontsize=40)\n",
    "for i in range(numOfLA):\n",
    "\tplt.plot(LAs[i].bestLoadResponse)\n",
    "plt.legend([chr(ord('A') + i) for i in range(numOfLA)], fontsize=40)\n",
    "plt.show()"
   ]
  }
 ],
 "metadata": {
  "kernelspec": {
   "display_name": "Python 3",
   "language": "python",
   "name": "python3"
  },
  "language_info": {
   "codemirror_mode": {
    "name": "ipython",
    "version": 3
   },
   "file_extension": ".py",
   "mimetype": "text/x-python",
   "name": "python",
   "nbconvert_exporter": "python",
   "pygments_lexer": "ipython3",
   "version": "3.9.9"
  },
  "orig_nbformat": 4
 },
 "nbformat": 4,
 "nbformat_minor": 2
}
