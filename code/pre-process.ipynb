{
 "cells": [
  {
   "cell_type": "code",
   "execution_count": 18,
   "metadata": {},
   "outputs": [],
   "source": [
    "import pandas as pd\n",
    "import os"
   ]
  },
  {
   "cell_type": "code",
   "execution_count": 19,
   "metadata": {},
   "outputs": [],
   "source": [
    "datasetPath = '../dataset/'\n",
    "saveFile = False"
   ]
  },
  {
   "cell_type": "code",
   "execution_count": 20,
   "metadata": {},
   "outputs": [],
   "source": [
    "for i in range (0, 3):\n",
    "\tletter = chr(ord('A') + i)\n",
    "\tfolderName = 'Home' + letter\n",
    "\n",
    "\t# create dataframe for each home\n",
    "\tdf = pd.DataFrame(columns=['Date & Time', 'cost'])\n",
    "\tdf.set_index('Date & Time', inplace=True)\n",
    "\tfor year in range (2014, 2017):\n",
    "\t\t# for all files starting with Home*\n",
    "\t\tfor fileName in os.listdir(datasetPath + folderName + '/' + str(year)):\n",
    "\t\t\tif fileName.startswith('Home'):\n",
    "\t\t\t\t# read file\n",
    "\t\t\t\tfilePath = datasetPath + folderName + '/' + str(year) + '/' + fileName\n",
    "\t\t\t\tcurrDF = pd.read_csv(filePath)\n",
    "\t\t\t\tcurrDF.set_index('Date & Time', inplace=True)\n",
    "\t\t\t\t# remove columns 'use [kW]' and 'gen [kW]' from currDF\n",
    "\t\t\t\tcurrDF = currDF.drop(['use [kW]', 'gen [kW]'], axis=1)\n",
    "\t\t\t\tcurrDF.loc[:, 'cost'] = currDF.sum(axis=1)\n",
    "\t\t\t\t# drop all columns except 'cost'\n",
    "\t\t\t\tcurrDF = currDF.drop(currDF.columns.difference(['cost']), axis=1)\n",
    "\t\t\t\t# update df by adding the values of currDF to df with respect to the index (Date & Time)\n",
    "\t\t\t\tdf = df.add(currDF, fill_value=0)\n",
    "\t\t\t\t# replace NaN values of df with 0\n",
    "\t\t\t\tdf = df.fillna(0)\n",
    "\t\n",
    "\t# print(df.head())\n",
    "\n",
    "\tif saveFile:\n",
    "\t\t# save the result to a csv file\n",
    "\t\tdf.to_csv(datasetPath + folderName + '.csv', index=True)"
   ]
  },
  {
   "cell_type": "code",
   "execution_count": null,
   "metadata": {},
   "outputs": [],
   "source": [
    "for i in range (0, 3):\n",
    "\tletter = chr(ord('A') + i)\n",
    "\tfileName = 'Home' + letter + '.csv'\n",
    "\tdf = pd.read_csv(datasetPath + fileName)\n",
    "\tdf.set_index('Date & Time', inplace=True)\n",
    "\tdf.index = pd.to_datetime(df.index)\n",
    "\t# take average of hourly data\n",
    "\tdf = df.resample('H').mean()\n",
    "\t# print(df.head())\n",
    "\n",
    "\t# save the result to a csv file\n",
    "\tupdatedFileName = 'Home' + letter + '_hourly.csv'\n",
    "\tdf.to_csv(datasetPath + updatedFileName, index=True)"
   ]
  }
 ],
 "metadata": {
  "kernelspec": {
   "display_name": "Python 3",
   "language": "python",
   "name": "python3"
  },
  "language_info": {
   "codemirror_mode": {
    "name": "ipython",
    "version": 3
   },
   "file_extension": ".py",
   "mimetype": "text/x-python",
   "name": "python",
   "nbconvert_exporter": "python",
   "pygments_lexer": "ipython3",
   "version": "3.9.9"
  },
  "orig_nbformat": 4
 },
 "nbformat": 4,
 "nbformat_minor": 2
}
